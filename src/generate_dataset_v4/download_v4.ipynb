{
 "cells": [
  {
   "cell_type": "code",
   "execution_count": 1,
   "id": "86e9bb21",
   "metadata": {},
   "outputs": [],
   "source": [
    "import pandas as pd\n",
    "import os\n",
    "import boto3\n",
    "import pystac_client\n",
    "from dotenv import load_dotenv\n",
    "from tqdm import tqdm\n",
    "import numpy as np\n",
    "import glob\n",
    "import natsort\n",
    "from PIL import Image"
   ]
  },
  {
   "cell_type": "markdown",
   "id": "8ad74d65",
   "metadata": {},
   "source": [
    "## Setup Environment"
   ]
  },
  {
   "cell_type": "code",
   "execution_count": 2,
   "id": "0051eee8",
   "metadata": {},
   "outputs": [],
   "source": [
    "# Get credentials from environment variables\n",
    "load_dotenv()\n",
    "ACCESS_KEY_ID = os.environ.get(\"ACCESS_KEY_ID\")\n",
    "SECRET_ACCESS_KEY = os.environ.get(\"SECRET_ACCESS_KEY\")"
   ]
  },
  {
   "cell_type": "code",
   "execution_count": 3,
   "id": "0cab6369",
   "metadata": {},
   "outputs": [],
   "source": [
    "class S3Connector:\n",
    "    \"\"\"A clean connector for S3-compatible storage services\"\"\"\n",
    "\n",
    "    def __init__(self, endpoint_url, access_key_id,\n",
    "                 secret_access_key, region_name='default'):\n",
    "        \"\"\"Initialize the S3Connector with connection parameters\"\"\"\n",
    "        self.endpoint_url = endpoint_url\n",
    "        self.access_key_id = access_key_id\n",
    "        self.secret_access_key = secret_access_key\n",
    "        self.region_name = region_name\n",
    "\n",
    "        # Create session\n",
    "        self.session = boto3.session.Session()\n",
    "\n",
    "        # Initialize S3 resource\n",
    "        self.s3 = self.session.resource(\n",
    "            's3',\n",
    "            endpoint_url=self.endpoint_url,\n",
    "            aws_access_key_id=self.access_key_id,\n",
    "            aws_secret_access_key=self.secret_access_key,\n",
    "            region_name=self.region_name\n",
    "        )\n",
    "\n",
    "        # Initialize S3 client\n",
    "        self.s3_client = self.session.client(\n",
    "            's3',\n",
    "            endpoint_url=self.endpoint_url,\n",
    "            aws_access_key_id=self.access_key_id,\n",
    "            aws_secret_access_key=self.secret_access_key,\n",
    "            region_name=self.region_name\n",
    "        )\n",
    "\n",
    "    def get_s3_client(self):\n",
    "        \"\"\"Get the boto3 S3 client\"\"\"\n",
    "        return self.s3_client\n",
    "\n",
    "    def get_s3_resource(self):\n",
    "        \"\"\"Get the boto3 S3 resource\"\"\"\n",
    "        return self.s3\n",
    "\n",
    "    def get_bucket(self, bucket_name):\n",
    "        \"\"\"Get a specific bucket by name\"\"\"\n",
    "        return self.s3.Bucket(bucket_name)\n",
    "\n",
    "    def list_buckets(self):\n",
    "        \"\"\"List all available buckets\"\"\"\n",
    "        response = self.s3_client.list_buckets()\n",
    "        if 'Buckets' in response:\n",
    "            return [bucket['Name'] for bucket in response['Buckets']]\n",
    "        return []"
   ]
  },
  {
   "cell_type": "markdown",
   "id": "486bbf47",
   "metadata": {},
   "source": [
    "## Utility Functions\n",
    "\n",
    "The following function helps convert S3 URIs from the STAC catalog into S3 keys that can be used for direct access."
   ]
  },
  {
   "cell_type": "code",
   "execution_count": 4,
   "id": "4cbd3045",
   "metadata": {},
   "outputs": [
    {
     "name": "stdout",
     "output_type": "stream",
     "text": [
      "Available buckets: ['EODATA', 'DIAS']\n"
     ]
    }
   ],
   "source": [
    "ACCESS_KEY_ID = os.environ.get(\"ACCESS_KEY_ID\")\n",
    "SECRET_ACCESS_KEY = os.environ.get(\"SECRET_ACCESS_KEY\")\n",
    "ENDPOINT_URL = 'https://eodata.dataspace.copernicus.eu'\n",
    "ENDPOINT_STAC = \"https://stac.dataspace.copernicus.eu/v1/\"\n",
    "BUCKET_NAME = \"eodata\"\n",
    "catalog = pystac_client.Client.open(ENDPOINT_STAC)\n",
    "connector = S3Connector(\n",
    "    endpoint_url=ENDPOINT_URL,\n",
    "    access_key_id=ACCESS_KEY_ID,\n",
    "    secret_access_key=SECRET_ACCESS_KEY,\n",
    "    region_name='default'\n",
    ")\n",
    "# Get S3 client and resource from the connector instance\n",
    "s3 = connector.get_s3_resource()\n",
    "s3_client = connector.get_s3_client()\n",
    "buckets = connector.list_buckets()\n",
    "print(\"Available buckets:\", buckets)"
   ]
  },
  {
   "cell_type": "code",
   "execution_count": 5,
   "id": "e9d80925",
   "metadata": {},
   "outputs": [],
   "source": [
    "def prepare_paths(path_dir):\n",
    "\n",
    "    df_input = pd.read_csv(f\"{path_dir}/input.csv\")\n",
    "    df_target = pd.read_csv(f\"{path_dir}/target.csv\")\n",
    "\n",
    "    df_input[\"path\"] = df_input[\"Name\"].apply(lambda x: os.path.join(path_dir, \"input\", os.path.basename(x).replace(\".SAFE\",\"\")))\n",
    "    df_target[\"path\"] = df_target[\"Name\"].apply(lambda x: os.path.join(path_dir, \"target\", os.path.basename(x).replace(\".SAFE\",\"\")))\n",
    "    df_input[\"S3Path\"] = df_input[\"S3Path\"].apply(lambda x: f\"s3:/{x}\" if not x.startswith(\"s3://\") else x)\n",
    "    df_target[\"S3Path\"] = df_target[\"S3Path\"].apply(lambda x: f\"s3:/{x}\" if not x.startswith(\"s3://\") else x)\n",
    "    return df_input, df_target\n",
    "\n",
    "version = \"V3\"\n",
    "TRAIN_DIR = f\"/mnt/disk/dataset/sentinel-ai-processor/{version}/train/\"\n",
    "VAL_DIR = f\"/mnt/disk/dataset/sentinel-ai-processor/{version}/val/\"\n",
    "TEST_DIR = f\"/mnt/disk/dataset/sentinel-ai-processor/{version}/test/\"\n",
    "df_train_input, df_train_target =  prepare_paths(TRAIN_DIR)\n",
    "df_val_input, df_val_target =  prepare_paths(VAL_DIR)\n",
    "df_test_input, df_test_target =  prepare_paths(TEST_DIR)"
   ]
  },
  {
   "cell_type": "code",
   "execution_count": 6,
   "id": "e8484ea4",
   "metadata": {},
   "outputs": [],
   "source": [
    "def calculate_valid_pixel_percentages(df, column_name=\"path\", show_progress=True):\n",
    "    \"\"\"\n",
    "    Calculate the percentage of valid (non-zero) pixels for each entry in the dataframe.\n",
    "\n",
    "    Args:\n",
    "        df (DataFrame): DataFrame containing paths to image folders.\n",
    "        column_name (str): Name of the column in the dataframe that contains the image folder paths.\n",
    "        show_progress (bool): Whether to show a progress bar.\n",
    "\n",
    "    Returns:\n",
    "        DataFrame: DataFrame with an additional column for valid pixel percentages.\n",
    "    \"\"\"\n",
    "    valid_pixel_percentages = []\n",
    "\n",
    "    # Create iterator with or without progress bar\n",
    "    iterator = tqdm(range(len(df)), desc=\"Processing Valid Pixel\", ncols=100, colour='#ff6666') if show_progress else range(len(df))\n",
    "\n",
    "    for i in iterator:\n",
    "        x_paths = natsort.natsorted(glob.glob(os.path.join(df[column_name][i], \"*.png\"), recursive=False))\n",
    "\n",
    "        if not x_paths:\n",
    "            valid_pixel_percentages.append(0)\n",
    "            continue\n",
    "\n",
    "        data = Image.open(x_paths[0])\n",
    "        data = np.array(data)\n",
    "\n",
    "        total_pixels = data.size\n",
    "        pixels_greater_than_zero = np.sum(data > 0)\n",
    "        percentage = (pixels_greater_than_zero / total_pixels) * 100\n",
    "        valid_pixel_percentages.append(percentage)\n",
    "\n",
    "    df['valid_pixel'] = valid_pixel_percentages\n",
    "    return df"
   ]
  },
  {
   "cell_type": "code",
   "execution_count": 7,
   "id": "403daa07",
   "metadata": {},
   "outputs": [
    {
     "name": "stderr",
     "output_type": "stream",
     "text": [
      "Processing Valid Pixel: 100%|\u001b[38;2;255;102;102m███████████████████████████████████\u001b[0m| 4227/4227 [03:50<00:00, 18.32it/s]\u001b[0m\n",
      "Processing Valid Pixel: 100%|\u001b[38;2;255;102;102m█████████████████████████████████████\u001b[0m| 516/516 [00:28<00:00, 17.90it/s]\u001b[0m\n",
      "Processing Valid Pixel: 100%|\u001b[38;2;255;102;102m█████████████████████████████████████\u001b[0m| 530/530 [00:29<00:00, 18.01it/s]\u001b[0m\n"
     ]
    }
   ],
   "source": [
    "df_train_input = calculate_valid_pixel_percentages(df=df_train_input, column_name=\"path\", show_progress=True)\n",
    "df_val_input = calculate_valid_pixel_percentages(df=df_val_input, column_name=\"path\", show_progress=True)\n",
    "df_test_input = calculate_valid_pixel_percentages(df=df_test_input, column_name=\"path\", show_progress=True)"
   ]
  },
  {
   "cell_type": "code",
   "execution_count": 8,
   "id": "058eb5af",
   "metadata": {},
   "outputs": [
    {
     "name": "stderr",
     "output_type": "stream",
     "text": [
      "Processing Valid Pixel: 100%|\u001b[38;2;255;102;102m███████████████████████████████████\u001b[0m| 4227/4227 [03:54<00:00, 18.02it/s]\u001b[0m\n",
      "Processing Valid Pixel: 100%|\u001b[38;2;255;102;102m█████████████████████████████████████\u001b[0m| 516/516 [00:29<00:00, 17.65it/s]\u001b[0m\n",
      "Processing Valid Pixel: 100%|\u001b[38;2;255;102;102m█████████████████████████████████████\u001b[0m| 530/530 [00:30<00:00, 17.55it/s]\u001b[0m\n"
     ]
    }
   ],
   "source": [
    "df_train_target = calculate_valid_pixel_percentages(df=df_train_target, column_name=\"path\", show_progress=True)\n",
    "df_val_target = calculate_valid_pixel_percentages(df=df_val_target, column_name=\"path\", show_progress=True)\n",
    "df_test_target = calculate_valid_pixel_percentages(df=df_test_target, column_name=\"path\", show_progress=True)"
   ]
  },
  {
   "cell_type": "markdown",
   "id": "22700eff",
   "metadata": {},
   "source": [
    "## Data filtering\n",
    "\n",
    "Filter data based on L1C products features:\n",
    "\n",
    " - valid pixel = 100\n",
    " - cloud_cover < 30 % "
   ]
  },
  {
   "cell_type": "code",
   "execution_count": 9,
   "id": "e3aba525",
   "metadata": {},
   "outputs": [],
   "source": [
    "# get index of filtered data\n",
    "\n",
    "train_index = df_train_input[\n",
    "    (df_train_input['valid_pixel'] == 100) &\n",
    "    (df_train_input['cloud_cover'] < 30)\n",
    "].index\n",
    "\n",
    "val_index = df_val_input[\n",
    "    (df_val_input['valid_pixel'] == 100) &\n",
    "    (df_val_input['cloud_cover'] < 30)\n",
    "].index\n",
    "\n",
    "test_index = df_test_input[\n",
    "    (df_test_input['valid_pixel'] == 100) &\n",
    "    (df_test_input['cloud_cover'] < 30)\n",
    "].index"
   ]
  },
  {
   "cell_type": "code",
   "execution_count": 10,
   "id": "4d9d8996",
   "metadata": {},
   "outputs": [],
   "source": [
    "# Create new dataframe\n",
    "df_train_input_new, df_train_target_new = df_train_input.loc[train_index], df_train_target.loc[train_index]\n",
    "df_val_input_new, df_val_target_new = df_val_input.loc[val_index], df_val_target.loc[val_index]\n",
    "df_test_input_new, df_test_target_new = df_test_input.loc[test_index], df_test_target.loc[test_index]"
   ]
  },
  {
   "cell_type": "code",
   "execution_count": 11,
   "id": "6f1f6f60",
   "metadata": {},
   "outputs": [],
   "source": [
    "from sklearn.utils import shuffle\n",
    "\n",
    "# Shuffle and reset index for train set\n",
    "\n",
    "df_train_input_shuffle, df_train_target_shuffle = shuffle(df_train_input_new, df_train_target_new, random_state=42)\n",
    "df_train_input_shuffle = df_train_input_shuffle.reset_index(drop=True)\n",
    "df_train_target_shuffle = df_train_target_shuffle.reset_index(drop=True)\n",
    "\n",
    "# Shuffle and reset index for validation set\n",
    "df_val_input_shuffle, df_val_target_shuffle = shuffle(df_val_input_new, df_val_target_new, random_state=42)\n",
    "df_val_input_shuffle = df_val_input_shuffle.reset_index(drop=True)\n",
    "df_val_target_shuffle = df_val_target_shuffle.reset_index(drop=True)\n",
    "\n",
    "# Shuffle and reset index for test set\n",
    "df_test_input_shuffle, df_test_target_shuffle = shuffle(df_test_input_new, df_test_target_new, random_state=42)\n",
    "df_test_input_shuffle = df_test_input_shuffle.reset_index(drop=True)\n",
    "df_test_target_shuffle = df_test_target_shuffle.reset_index(drop=True)"
   ]
  },
  {
   "cell_type": "code",
   "execution_count": 12,
   "id": "2b0c2d86",
   "metadata": {},
   "outputs": [
    {
     "data": {
      "text/plain": [
       "<Axes: >"
      ]
     },
     "execution_count": 12,
     "metadata": {},
     "output_type": "execute_result"
    },
    {
     "data": {
      "image/png": "[encoded data removed]",
      "text/plain": [
       "<Figure size 640x480 with 1 Axes>"
      ]
     },
     "metadata": {},
     "output_type": "display_data"
    }
   ],
   "source": [
    "df_train_input_shuffle[\"cloud_cover\"].hist()\n",
    "df_val_input_shuffle[\"cloud_cover\"].hist()\n",
    "df_test_input_shuffle[\"cloud_cover\"].hist()"
   ]
  },
  {
   "cell_type": "code",
   "execution_count": 13,
   "id": "1f67038b",
   "metadata": {},
   "outputs": [],
   "source": [
    "# Data split for the V4 dataset\n",
    "# 100 random tiles\n",
    "# 70 / 20 / 10\n",
    "\n",
    "dfs_train_input, dfs_train_target = df_train_input_shuffle[:70], df_train_target_shuffle[:70]\n",
    "dfs_val_input, dfs_val_target = df_val_input_shuffle[:20], df_val_target_shuffle[:20]\n",
    "dfs_test_input, dfs_test_target = df_test_input_shuffle[:10], df_test_target_shuffle[:10]"
   ]
  },
  {
   "cell_type": "markdown",
   "id": "566d7a07",
   "metadata": {},
   "source": [
    "## Save "
   ]
  },
  {
   "cell_type": "code",
   "execution_count": 14,
   "id": "9fcbdbd2",
   "metadata": {},
   "outputs": [],
   "source": [
    "import os\n",
    "\n",
    "def save_dataframes_to_csv(\n",
    "    dfs_train_input, dfs_train_target,\n",
    "    dfs_val_input, dfs_val_target,\n",
    "    dfs_test_input, dfs_test_target,\n",
    "    base_dir=\"/mnt/disk/dataset/sentinel-ai-processor\",\n",
    "    version=\"V4\"\n",
    "):\n",
    "    # Define full paths\n",
    "    TRAIN_DIR = os.path.join(base_dir, version, \"train\")\n",
    "    VAL_DIR = os.path.join(base_dir, version, \"val\")\n",
    "    TEST_DIR = os.path.join(base_dir, version, \"test\")\n",
    "\n",
    "    os.makedirs(TRAIN_DIR, exist_ok=True)\n",
    "    os.makedirs(VAL_DIR, exist_ok=True)\n",
    "    os.makedirs(TEST_DIR, exist_ok=True)\n",
    "\n",
    "    # Save train\n",
    "    dfs_train_input.to_csv(os.path.join(TRAIN_DIR, \"input.csv\"), index=False)\n",
    "    dfs_train_target.to_csv(os.path.join(TRAIN_DIR, \"target.csv\"), index=False)\n",
    "\n",
    "    # Save val\n",
    "    dfs_val_input.to_csv(os.path.join(VAL_DIR, \"input.csv\"), index=False)\n",
    "    dfs_val_target.to_csv(os.path.join(VAL_DIR, \"target.csv\"), index=False)\n",
    "\n",
    "    # Save test\n",
    "    dfs_test_input.to_csv(os.path.join(TEST_DIR, \"input.csv\"), index=False)\n",
    "    dfs_test_target.to_csv(os.path.join(TEST_DIR, \"target.csv\"), index=False)\n",
    "\n",
    "    print(\"✅ DataFrames saved successfully.\")"
   ]
  },
  {
   "cell_type": "code",
   "execution_count": 15,
   "id": "5f3922b2",
   "metadata": {},
   "outputs": [
    {
     "name": "stdout",
     "output_type": "stream",
     "text": [
      "✅ DataFrames saved successfully.\n"
     ]
    }
   ],
   "source": [
    "save_dataframes_to_csv(\n",
    "    dfs_train_input, dfs_train_target,\n",
    "    dfs_val_input, dfs_val_target,\n",
    "    dfs_test_input, dfs_test_target,\n",
    "    version=\"V4\"\n",
    ")"
   ]
  },
  {
   "cell_type": "code",
   "execution_count": null,
   "id": "6e8394e8",
   "metadata": {},
   "outputs": [],
   "source": [
    "product_url = df_train_input[\"S3Path\"][0]\n",
    "product_url"
   ]
  },
  {
   "cell_type": "code",
   "execution_count": null,
   "id": "9d5c91a4",
   "metadata": {},
   "outputs": [],
   "source": [
    "# Replace .SAFE with .zarr\n",
    "zarr_filename =  os.path.split(product_url)[1].replace('.SAFE', '.zarr')\n",
    "# Join the current directory path with the new filename\n",
    "zarr_path = os.path.join(\"./\", zarr_filename)"
   ]
  },
  {
   "cell_type": "code",
   "execution_count": null,
   "id": "1fcef99c",
   "metadata": {},
   "outputs": [],
   "source": [
    "from eopf.common.constants import OpeningMode\n",
    "from eopf.common.file_utils import AnyPath\n",
    "\n",
    "S3_CONFIG = {\n",
    "    \"key\": ACCESS_KEY_ID, # EDIT WITH YOUR S3 KEY\n",
    "    \"secret\": SECRET_ACCESS_KEY, # EDIT WITH YOUR S3 SECRET KEY\n",
    "    \"client_kwargs\": { \"endpoint_url\": ENDPOINT_URL, \"region_name\": \"default\"} # EDIT WITH YOUR CLIENT_KWARGS\n",
    "}\n",
    "# Add this parameter if you want to overwrite the output of the conversion if it already exists\n",
    "target_store_config = dict(mode=OpeningMode.CREATE_OVERWRITE)"
   ]
  },
  {
   "cell_type": "code",
   "execution_count": null,
   "id": "8277c04c",
   "metadata": {},
   "outputs": [],
   "source": [
    "from eopf.store.convert import convert\n",
    "\n",
    "convert(AnyPath(product_url, **S3_CONFIG), zarr_path, target_store_kwargs=target_store_config)"
   ]
  }
 ],
 "metadata": {
  "kernelspec": {
   "display_name": "eopf",
   "language": "python",
   "name": "python3"
  },
  "language_info": {
   "codemirror_mode": {
    "name": "ipython",
    "version": 3
   },
   "file_extension": ".py",
   "mimetype": "text/x-python",
   "name": "python",
   "nbconvert_exporter": "python",
   "pygments_lexer": "ipython3",
   "version": "3.11.4"
  }
 },
 "nbformat": 4,
 "nbformat_minor": 5
}
